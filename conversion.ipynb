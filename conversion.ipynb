{
 "cells": [
  {
   "cell_type": "code",
   "execution_count": 1,
   "metadata": {},
   "outputs": [],
   "source": [
    "import pandas as pd\n",
    "import csv\n",
    "import json"
   ]
  },
  {
   "cell_type": "code",
   "execution_count": 2,
   "metadata": {},
   "outputs": [],
   "source": [
    "csvFile = 'table.csv'\n",
    "jsonFile = 'table_next.json'\n",
    "\n",
    "data = {}\n",
    "\n",
    "def process(header, value, record):\n",
    "    key, other = header.partition('.')[::2]\n",
    "    if other:\n",
    "        process(other, value, record.setdefault(key, {}))\n",
    "    else:\n",
    "        record[key] = value\n",
    "\n",
    "with open(csvFile) as stream:\n",
    "    reader = csv.DictReader(stream)\n",
    "    for row in reader:\n",
    "        data[row['name']] = record = {}\n",
    "        for header, value in row.items():\n",
    "            process(header, value, record)\n",
    "\n",
    "with open(jsonFile, \"w\") as stream:\n",
    "    json.dump(data, stream, indent=4)"
   ]
  }
 ],
 "metadata": {
  "interpreter": {
   "hash": "63fd5069d213b44bf678585dea6b12cceca9941eaf7f819626cde1f2670de90d"
  },
  "kernelspec": {
   "display_name": "Python 3.9.0 64-bit",
   "language": "python",
   "name": "python3"
  },
  "language_info": {
   "codemirror_mode": {
    "name": "ipython",
    "version": 3
   },
   "file_extension": ".py",
   "mimetype": "text/x-python",
   "name": "python",
   "nbconvert_exporter": "python",
   "pygments_lexer": "ipython3",
   "version": "3.9.0"
  },
  "orig_nbformat": 4
 },
 "nbformat": 4,
 "nbformat_minor": 2
}
